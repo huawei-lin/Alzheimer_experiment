{
 "cells": [
  {
   "cell_type": "code",
   "execution_count": 3,
   "metadata": {},
   "outputs": [],
   "source": [
    "import pandas as pd"
   ]
  },
  {
   "cell_type": "code",
   "execution_count": 4,
   "metadata": {},
   "outputs": [],
   "source": [
    "data_path = './all_exam_features.csv'\n",
    "feature_path = './feature_key.txt'"
   ]
  },
  {
   "cell_type": "code",
   "execution_count": 5,
   "metadata": {},
   "outputs": [],
   "source": [
    "data = pd.read_csv(data_path)"
   ]
  },
  {
   "cell_type": "code",
   "execution_count": 6,
   "metadata": {},
   "outputs": [],
   "source": [
    "feature_key_list = ['id']\n",
    "with open(feature_path, 'r') as fr:\n",
    "    for line in fr.readlines():\n",
    "        feature_key_list.append(line.strip())"
   ]
  },
  {
   "cell_type": "code",
   "execution_count": 7,
   "metadata": {},
   "outputs": [
    {
     "name": "stdout",
     "output_type": "stream",
     "text": [
      "j3a\n",
      "j3b\n",
      "k2a\n",
      "j10new\n",
      "j11anew\n"
     ]
    }
   ],
   "source": [
    "new_df = pd.DataFrame()\n",
    "for feature_key in feature_key_list:\n",
    "    try:\n",
    "        new_df[feature_key] = data[feature_key]\n",
    "    except Exception as e:\n",
    "        print(feature_key)\n",
    "new_df.to_csv(\"./data_all_step.csv\", index=0)"
   ]
  },
  {
   "cell_type": "code",
   "execution_count": 13,
   "metadata": {},
   "outputs": [],
   "source": [
    "step_1_feature_key_list = ['id', 'h1', 'h2', 'h3', 'h4', 'h5', 'h6', 'h7', 'zb1', 'zb2', 'zb3', 'zb4', 'zb5', 'zb6', 'zb7', 'zb8', 'zb9', 'zb10', 'zb11', 'zb12', 'zb13', 'zb14', 'zb15', 'zb16', 'zb17', 'zb18', 'zb19', 'zb20', 'zb21', 'zb22', 'zb23']\n",
    "step_2_feature_key_list = ['id', 'j1', 'j2', 'j3a', 'j3b', 'j5b', 'j7a', 'j7b', 'j7c', 'j7d', 'j7e', 'j11a', 'j15', 'j17a', 'j17b', 'j18', 'j19a', 'j17a', 'j17b', 'j18', 'j19a', 'j17a', 'j17b', 'j18', 'j17a', 'j17b', 'j18', 'j19a', 'j19b', 'j19c', 'j19d', 'j19e', 'j19f', 'j19g', 'j19h', 'j19i', 'j19j', 'j19k', 'j19l', 'k2', 'k2a', 'k2d', 'k2e', 'k2f', 'k2g', 'k3', 'k4a', 'k4c', 'k5a', 'k5b', 'k5c', 'k5d', 'k5e', 'k5f', 'k5g', 'k5h', 'k5i', 'k5j', 'k5k', 'k6a', 'k6b', 'k6c', 'k6d', 'k6e', 'k6f', 'k7a', 'k7b', 'k7c', 'k7d', 'k8a', 'k8b', 'k8c', 'l1a', 'l1b', 'l1c1', 'l1c2', 'l1d1', 'l1d2', 'l2a', 'l2b', 'l2c', 'l3a', 'l3b', 'l3c', 'l3d', 'l3e', 'l3f', 'l3g', 'l3h', 'l3i', 'l4a', 'l4b1', 'l4b2', 'l4c', 'l4d', 'l4e1', 'l4e2', 'l4f', 'l4g1', 'l4g2', 'l4h1', 'l4h2', 'l4h3', 'l5a', 'l5a1', 'l5b', 'l5c', 'l5d', 'l5d1', 'l6a', 'l6b', 'l6c', 'l6d', 'l6e', 'l7', 'l8', 'l9', 'l10', 'l11', 'l12a', 'l12b', 'l12c1', 'l12c2', 'l13a', 'l13b', 'l14a', 'l14b', 'l15a', 'l15b', 'l15c', 'l15d', 'l15e', 'l15f', 'l16a', 'l16b', 'l17a', 'l17b', 'l18', 'm1', 'm1a', 'm1b', 'm1c', 'm1d', 'm2', 'm2a', 'm2b', 'm2c', 'm2d', 'm3', 'm3a', 'm3b', 'm3c', 'm3d', 'm3e', 'm4', 'm5', 'm6', 'm9', 'm9a', 'm10', 'm10a', 'm11', 'm11a', 'm12', 'm12a', 'm12b', 'm13a', 'm13b', 'm13c', 'm13d', 'm13e', 'm13f', 'm13g', 'm14', 'm15', 'm16', 'n15a1', 'n15a2', 'n15a3', 'n15a4', 'n15b1', 'n15b2', 'n15b3', 'n15b4', 'n15b5', 'n15b6', 'n15b7', 'n15b8', 'n15c', 'n15d', 'n15d1', 'n15d2', 'n15d3', 'n15e', 'n15e1', 'n15e2', 'n15e3', 'n15f', 'n15g', 'j4temp', 'j6temp', 'j7fnew', 'j8new', 'j7fnew', 'j8new', 'j10new', 'j11anew', 'j12new', 'j13temp', 'j13temp', 'h3mo2', 'h3mo2a', 'h3mo2b', 'h3mo2c', 'd131', 'd351', 'h4a_d1', 'h4b_d1']\n",
    "label_key = ['id', 'IfStep2Needed', 'finalDiagPos', 'finalDiag']"
   ]
  },
  {
   "cell_type": "code",
   "execution_count": 14,
   "metadata": {},
   "outputs": [],
   "source": [
    "step_1_df = pd.DataFrame()\n",
    "for feature_key in step_1_feature_key_list:\n",
    "    try:\n",
    "        step_1_df[feature_key] = data[feature_key]\n",
    "    except Exception as e:\n",
    "        print(feature_key)\n",
    "step_1_df.to_csv(\"./step1_cleaned.csv\", index=0)"
   ]
  },
  {
   "cell_type": "code",
   "execution_count": 15,
   "metadata": {},
   "outputs": [
    {
     "name": "stdout",
     "output_type": "stream",
     "text": [
      "j3a\n",
      "j3b\n",
      "k2a\n",
      "j10new\n",
      "j11anew\n"
     ]
    }
   ],
   "source": [
    "step_2_df = pd.DataFrame()\n",
    "for feature_key in step_2_feature_key_list:\n",
    "    try:\n",
    "        step_2_df[feature_key] = data[feature_key]\n",
    "    except Exception as e:\n",
    "        print(feature_key)\n",
    "step_2_df.to_csv(\"./step2_cleaned.csv\", index=0)"
   ]
  },
  {
   "cell_type": "code",
   "execution_count": 18,
   "metadata": {},
   "outputs": [],
   "source": [
    "label_df = pd.DataFrame()\n",
    "for feature_key in label_key:\n",
    "    try:\n",
    "        label_df[feature_key] = data[feature_key]\n",
    "    except Exception as e:\n",
    "        print(feature_key)\n",
    "label_df.to_csv(\"./label.csv\", index=0)"
   ]
  },
  {
   "cell_type": "code",
   "execution_count": null,
   "metadata": {},
   "outputs": [],
   "source": []
  }
 ],
 "metadata": {
  "kernelspec": {
   "display_name": "Python 3",
   "language": "python",
   "name": "python3"
  },
  "language_info": {
   "codemirror_mode": {
    "name": "ipython",
    "version": 3
   },
   "file_extension": ".py",
   "mimetype": "text/x-python",
   "name": "python",
   "nbconvert_exporter": "python",
   "pygments_lexer": "ipython3",
   "version": "3.8.3"
  }
 },
 "nbformat": 4,
 "nbformat_minor": 4
}
